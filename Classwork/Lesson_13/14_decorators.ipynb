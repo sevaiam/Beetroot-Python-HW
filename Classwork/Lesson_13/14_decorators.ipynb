{
 "cells": [
  {
   "cell_type": "markdown",
   "metadata": {},
   "source": [
    "## Decorators\n",
    "Decorators are a significant part of Python. Simply put, they are functions that modify the functionality of other functions. They help to make our code shorter and more Pythonic"
   ]
  },
  {
   "cell_type": "code",
   "execution_count": 1,
   "metadata": {},
   "outputs": [],
   "source": [
    "def first_decorator(func):\n",
    "    def wrap():\n",
    "        print('before')\n",
    "        func()\n",
    "        print('after')\n",
    "    return wrap"
   ]
  },
  {
   "cell_type": "code",
   "execution_count": 2,
   "metadata": {},
   "outputs": [],
   "source": [
    "def test():\n",
    "    \"\"\"test function docs\"\"\"\n",
    "    print('inside test')"
   ]
  },
  {
   "cell_type": "code",
   "execution_count": 3,
   "metadata": {},
   "outputs": [
    {
     "data": {
      "text/plain": "'test'"
     },
     "execution_count": 3,
     "metadata": {},
     "output_type": "execute_result"
    }
   ],
   "source": [
    "test.__name__"
   ]
  },
  {
   "cell_type": "code",
   "execution_count": 4,
   "metadata": {},
   "outputs": [
    {
     "name": "stdout",
     "output_type": "stream",
     "text": [
      "Help on function test in module __main__:\n",
      "\n",
      "test()\n",
      "    test function docs\n",
      "\n"
     ]
    }
   ],
   "source": [
    "help(test)"
   ]
  },
  {
   "cell_type": "code",
   "execution_count": 5,
   "metadata": {},
   "outputs": [],
   "source": [
    "decorated_func = first_decorator(test)"
   ]
  },
  {
   "cell_type": "code",
   "execution_count": 6,
   "metadata": {},
   "outputs": [
    {
     "name": "stdout",
     "output_type": "stream",
     "text": [
      "inside test\n"
     ]
    }
   ],
   "source": [
    "test()"
   ]
  },
  {
   "cell_type": "code",
   "execution_count": 10,
   "metadata": {},
   "outputs": [
    {
     "name": "stdout",
     "output_type": "stream",
     "text": [
      "before\n",
      "inside test\n",
      "after\n"
     ]
    }
   ],
   "source": [
    "decorated_func()"
   ]
  },
  {
   "cell_type": "markdown",
   "metadata": {},
   "source": [
    "Instead of writing code like this `decorated_func = first_decorator(test)` we can use special python syntax with `@` symbol"
   ]
  },
  {
   "cell_type": "code",
   "execution_count": 8,
   "metadata": {},
   "outputs": [],
   "source": [
    "@first_decorator\n",
    "def test():\n",
    "    \"\"\"test function docs\"\"\"\n",
    "    print('inside test')"
   ]
  },
  {
   "cell_type": "code",
   "execution_count": 9,
   "metadata": {},
   "outputs": [
    {
     "name": "stdout",
     "output_type": "stream",
     "text": [
      "before\n",
      "inside test\n",
      "after\n"
     ]
    }
   ],
   "source": [
    "test()"
   ]
  },
  {
   "cell_type": "code",
   "execution_count": 10,
   "metadata": {},
   "outputs": [
    {
     "data": {
      "text/plain": "'wrap'"
     },
     "execution_count": 10,
     "metadata": {},
     "output_type": "execute_result"
    }
   ],
   "source": [
    "test.__name__ #  the overwrites and docstring of our function"
   ]
  },
  {
   "cell_type": "code",
   "execution_count": 12,
   "metadata": {},
   "outputs": [],
   "source": [
    "test.__doc__"
   ]
  },
  {
   "cell_type": "code",
   "execution_count": 14,
   "metadata": {},
   "outputs": [],
   "source": [
    "from functools import wraps"
   ]
  },
  {
   "cell_type": "code",
   "execution_count": 15,
   "metadata": {},
   "outputs": [],
   "source": [
    "def first_decorator(func):\n",
    "    @wraps(func) # не обов'язково до використання\n",
    "    def wrap():\n",
    "        print('before')\n",
    "        func()\n",
    "        print('after')\n",
    "    return wrap\n",
    "\n",
    "@first_decorator\n",
    "def test():\n",
    "    \"\"\"test function docs\"\"\"\n",
    "    print('inside test')"
   ]
  },
  {
   "cell_type": "code",
   "execution_count": 16,
   "metadata": {},
   "outputs": [
    {
     "name": "stdout",
     "output_type": "stream",
     "text": [
      "before\n",
      "inside test\n",
      "after\n"
     ]
    }
   ],
   "source": [
    "test()"
   ]
  },
  {
   "cell_type": "code",
   "execution_count": 17,
   "metadata": {},
   "outputs": [
    {
     "data": {
      "text/plain": "'test'"
     },
     "execution_count": 17,
     "metadata": {},
     "output_type": "execute_result"
    }
   ],
   "source": [
    "test.__name__"
   ]
  },
  {
   "cell_type": "code",
   "execution_count": 18,
   "metadata": {},
   "outputs": [
    {
     "data": {
      "text/plain": "'test function docs'"
     },
     "execution_count": 18,
     "metadata": {},
     "output_type": "execute_result"
    }
   ],
   "source": [
    "test.__doc__"
   ]
  },
  {
   "cell_type": "markdown",
   "source": [
    "Passing arguments and a return value"
   ],
   "metadata": {
    "collapsed": false
   }
  },
  {
   "cell_type": "code",
   "execution_count": 20,
   "outputs": [],
   "source": [
    "def logging_decorator(func):\n",
    "    def wrapper(*args, **kwargs):\n",
    "        print(f\"\\t[LOG] \\t calling {func.__name__}\")\n",
    "        res = func(*args, **kwargs)\n",
    "        print(f\"\\t[LOG] called {func.__name__}\")\n",
    "        return res\n",
    "    return wrapper\n",
    "\n",
    "# logging_decorator(func)(args)"
   ],
   "metadata": {
    "collapsed": false
   }
  },
  {
   "cell_type": "code",
   "execution_count": 21,
   "outputs": [],
   "source": [
    "@logging_decorator\n",
    "def multiply(number_a:int, number_b:int):\n",
    "    \"\"\" multiplies two provided numbers \"\"\"\n",
    "    print(f\"\\t\\t=== Inside the multiply function\")\n",
    "    return number_a * number_b"
   ],
   "metadata": {
    "collapsed": false
   }
  },
  {
   "cell_type": "code",
   "execution_count": 22,
   "outputs": [
    {
     "name": "stdout",
     "output_type": "stream",
     "text": [
      "\t[LOG] \t calling multiply\n",
      "\t\t=== Inside the multiply function\n",
      "\t[LOG] called multiply\n",
      "[result] \t 20\n"
     ]
    }
   ],
   "source": [
    "result = multiply(4, 5)\n",
    "print(f\"[result] \\t {result}\")"
   ],
   "metadata": {
    "collapsed": false
   }
  },
  {
   "cell_type": "markdown",
   "source": [
    "Multiple decorators"
   ],
   "metadata": {
    "collapsed": false
   }
  },
  {
   "cell_type": "code",
   "execution_count": 23,
   "outputs": [],
   "source": [
    "def logging_decorator_1(func):\n",
    "  def wrapper(*args, **kwargs):\n",
    "    print(f\"[LOG1] \\t calling decorator 1\")\n",
    "    res = func(*args, **kwargs)\n",
    "    print(f\"[LOG1] called decorator 1\")\n",
    "    return res\n",
    "  return wrapper\n",
    "\n",
    "def logging_decorator_2(func):\n",
    "  def wrapper(*args, **kwargs):\n",
    "    print(f\"[LOG2] \\t calling decorator 2\")\n",
    "    res = func(*args, **kwargs)\n",
    "    print(f\"[LOG2] called decorator 2\")\n",
    "    return res\n",
    "  return wrapper"
   ],
   "metadata": {
    "collapsed": false
   }
  },
  {
   "cell_type": "code",
   "execution_count": 24,
   "outputs": [],
   "source": [
    "@logging_decorator_1\n",
    "@logging_decorator_2\n",
    "def multiply(number_a:int, number_b:int):\n",
    "  \"\"\" multiplies two provided numbers \"\"\"\n",
    "  print(\"\\tmultiply function\")\n",
    "  return number_a * number_b"
   ],
   "metadata": {
    "collapsed": false
   }
  },
  {
   "cell_type": "code",
   "execution_count": 28,
   "outputs": [
    {
     "name": "stdout",
     "output_type": "stream",
     "text": [
      "[LOG1] \t calling decorator 1\n",
      "[LOG2] \t calling decorator 2\n",
      "\tmultiply function\n",
      "[LOG2] called decorator 2\n",
      "[LOG1] called decorator 1\n",
      "[result] \t 20\n"
     ]
    }
   ],
   "source": [
    "result = multiply(4, 5)\n",
    "print(f\"[result] \\t {result}\")\n",
    "\n",
    "# def decorator(func):\n",
    "#     def modyficator(parameters):\n",
    "#         result = func(parameters)\n",
    "#         return result\n",
    "#     return modyficator"
   ],
   "metadata": {
    "collapsed": false
   }
  },
  {
   "cell_type": "markdown",
   "source": [
    "Passing arguments to decorators"
   ],
   "metadata": {
    "collapsed": false
   }
  },
  {
   "cell_type": "code",
   "execution_count": 26,
   "outputs": [],
   "source": [
    "def add_brake_log(size=2):\n",
    "    def add_brake_log_dec(func):\n",
    "        @wraps(func)\n",
    "        def wrap(*args, **kwargs):\n",
    "            for _ in range(size):\n",
    "                print('_' * 80)\n",
    "            func(*args, **kwargs)\n",
    "            for _ in range(size):\n",
    "                print('_' * 80)\n",
    "        return wrap\n",
    "    return add_brake_log_dec\n",
    "\n",
    "# def decorator(decorator_parameter=default):\n",
    "#     def func_getter(func):\n",
    "#         def modyficator(parameters):\n",
    "#             if decorator_parameter is one:\n",
    "#                 func(parameters)\n",
    "#                 and one functinality\n",
    "#             elif decorator_parameter is second:\n",
    "#                 func(parameters)\n",
    "#                 and another functinality\n",
    "#             return result\n",
    "#         return modyficator\n",
    "#     return func_getter"
   ],
   "metadata": {
    "collapsed": false
   }
  },
  {
   "cell_type": "code",
   "execution_count": 30,
   "outputs": [
    {
     "name": "stdout",
     "output_type": "stream",
     "text": [
      "________________________________________________________________________________\n",
      "________________________________________________________________________________\n",
      "________________________________________________________________________________\n",
      "inside test\n",
      "________________________________________________________________________________\n",
      "________________________________________________________________________________\n",
      "________________________________________________________________________________\n"
     ]
    }
   ],
   "source": [
    "@add_brake_log(size=3)\n",
    "def test():\n",
    "    \"\"\"test function docs\"\"\"\n",
    "    print('inside test')\n",
    "\n",
    "test()"
   ],
   "metadata": {
    "collapsed": false
   }
  },
  {
   "cell_type": "markdown",
   "source": [
    "Decorator classes that have state"
   ],
   "metadata": {
    "collapsed": false
   }
  },
  {
   "cell_type": "code",
   "execution_count": 32,
   "outputs": [],
   "source": [
    "class ExecutionCounter:\n",
    "\n",
    "  def __init__(self, func):\n",
    "    self.func = func\n",
    "    self.call_count = 0\n",
    "  def __call__(self, *args, **kwargs):\n",
    "    self.call_count += 1\n",
    "    print(f\"Called {self.func.__name__} for the {self.call_count}th time\")\n",
    "    return self.func(*args, **kwargs)"
   ],
   "metadata": {
    "collapsed": false
   }
  },
  {
   "cell_type": "code",
   "execution_count": 33,
   "outputs": [],
   "source": [
    "@ExecutionCounter\n",
    "def multiply(number_a:int, number_b:int):\n",
    "  \"\"\" multiplies two provided numbers \"\"\"\n",
    "  return number_a * number_b"
   ],
   "metadata": {
    "collapsed": false
   }
  },
  {
   "cell_type": "code",
   "execution_count": 34,
   "outputs": [
    {
     "name": "stdout",
     "output_type": "stream",
     "text": [
      "Called multiply for the 1th time\n",
      "Called multiply for the 2th time\n",
      "Called multiply for the 3th time\n",
      "Called multiply for the 4th time\n",
      "res: (42, 70, 54, 8)\n"
     ]
    }
   ],
   "source": [
    "res1 = multiply(21, 2)\n",
    "res2 = multiply(14, 5)\n",
    "res3 = multiply(6, 9)\n",
    "res4 = multiply(4, 2)\n",
    "print(f\"res: {res1, res2, res3, res4}\")"
   ],
   "metadata": {
    "collapsed": false
   }
  },
  {
   "cell_type": "markdown",
   "source": [
    "Interaction between decorator args and function args"
   ],
   "metadata": {
    "collapsed": false
   }
  },
  {
   "cell_type": "code",
   "execution_count": 1,
   "outputs": [],
   "source": [
    "def check_password(password):\n",
    "  def outer_wrapper(func):\n",
    "    def wrapper(*args, **kwargs):\n",
    "      provided_pass = kwargs.get(\"password\") or args[0]\n",
    "      if provided_pass != password:\n",
    "        print(provided_pass, password)\n",
    "        raise ValueError(\"Incorrect password\")\n",
    "\n",
    "      res = func(*args, **kwargs)\n",
    "      return res\n",
    "    return wrapper\n",
    "  return outer_wrapper"
   ],
   "metadata": {
    "collapsed": false
   }
  },
  {
   "cell_type": "code",
   "execution_count": 2,
   "outputs": [],
   "source": [
    "@check_password(password=\"mypassword\")\n",
    "def public_api_request(password):\n",
    "  \"\"\" Prints some text if the provided password is correct \"\"\"\n",
    "  print(\"You can only see this if you provided the right answer\")"
   ],
   "metadata": {
    "collapsed": false
   }
  },
  {
   "cell_type": "code",
   "execution_count": 3,
   "outputs": [
    {
     "name": "stdout",
     "output_type": "stream",
     "text": [
      "You can only see this if you provided the right answer\n",
      "wrongpassword mypassword\n",
      "Incorrect password\n"
     ]
    }
   ],
   "source": [
    "try:\n",
    "    public_api_request(password='mypassword')\n",
    "except Exception as e:\n",
    "    print(e)\n",
    "\n",
    "try:\n",
    "    public_api_request(password='wrongpassword')\n",
    "except Exception as e:\n",
    "    print(e)"
   ],
   "metadata": {
    "collapsed": false
   }
  },
  {
   "cell_type": "markdown",
   "source": [
    "Decorators in API\n",
    "- Валідація JSON\n",
    "- Кешування\n",
    "- Задання шляху і методу запиту\n",
    "- Модифікація параметрів запиту"
   ],
   "metadata": {
    "collapsed": false
   }
  },
  {
   "cell_type": "code",
   "execution_count": 4,
   "outputs": [
    {
     "name": "stdout",
     "output_type": "stream",
     "text": [
      "Calculating fibonacci(6)\n",
      "Calculating fibonacci(5)\n",
      "Calculating fibonacci(4)\n",
      "Calculating fibonacci(3)\n",
      "Calculating fibonacci(2)\n",
      "Calculating fibonacci(1)\n",
      "Calculating fibonacci(0)\n"
     ]
    },
    {
     "data": {
      "text/plain": "8"
     },
     "execution_count": 4,
     "metadata": {},
     "output_type": "execute_result"
    }
   ],
   "source": [
    "from functools import lru_cache\n",
    "@lru_cache(maxsize=4)\n",
    "def fibonacci(num):\n",
    "    print(f\"Calculating fibonacci({num})\")\n",
    "    if num < 2:\n",
    "        return num\n",
    "    return fibonacci(num - 1) + fibonacci(num - 2)\n",
    "\n",
    "fibonacci(6)\n",
    "fibonacci(6)\n",
    "fibonacci(6)\n",
    "fibonacci(6)\n",
    "fibonacci(6)"
   ],
   "metadata": {
    "collapsed": false
   }
  },
  {
   "cell_type": "code",
   "execution_count": 40,
   "outputs": [
    {
     "ename": "NameError",
     "evalue": "name 'app' is not defined",
     "output_type": "error",
     "traceback": [
      "\u001B[1;31m---------------------------------------------------------------------------\u001B[0m",
      "\u001B[1;31mNameError\u001B[0m                                 Traceback (most recent call last)",
      "Input \u001B[1;32mIn [40]\u001B[0m, in \u001B[0;36m<cell line: 1>\u001B[1;34m()\u001B[0m\n\u001B[1;32m----> 1\u001B[0m \u001B[38;5;129m@app\u001B[39m\u001B[38;5;241m.\u001B[39mroute(\u001B[38;5;124m\"\u001B[39m\u001B[38;5;124m/grade\u001B[39m\u001B[38;5;124m\"\u001B[39m, methods\u001B[38;5;241m=\u001B[39m[\u001B[38;5;124m\"\u001B[39m\u001B[38;5;124mPOST\u001B[39m\u001B[38;5;124m\"\u001B[39m])\n\u001B[0;32m      2\u001B[0m \u001B[38;5;28;01mdef\u001B[39;00m \u001B[38;5;21mupdate_grade\u001B[39m():\n\u001B[0;32m      3\u001B[0m     json_data \u001B[38;5;241m=\u001B[39m request\u001B[38;5;241m.\u001B[39mget_json()\n\u001B[0;32m      4\u001B[0m     \u001B[38;5;28;01mif\u001B[39;00m \u001B[38;5;124m\"\u001B[39m\u001B[38;5;124mstudent_id\u001B[39m\u001B[38;5;124m\"\u001B[39m \u001B[38;5;129;01mnot\u001B[39;00m \u001B[38;5;129;01min\u001B[39;00m json_data:\n",
      "\u001B[1;31mNameError\u001B[0m: name 'app' is not defined"
     ]
    }
   ],
   "source": [
    "@app.route(\"/grade\", methods=[\"POST\"])\n",
    "def update_grade():\n",
    "    json_data = request.get_json()\n",
    "    if \"student_id\" not in json_data:\n",
    "        abort(400)\n",
    "    # Update database\n",
    "    return \"success!\""
   ],
   "metadata": {
    "collapsed": false
   }
  },
  {
   "cell_type": "code",
   "execution_count": 7,
   "outputs": [
    {
     "ename": "ImportError",
     "evalue": "cannot import name 'do_twice' from 'decorators' (/Users/seva/Develop/Beetroot/.venv/lib/python3.11/site-packages/decorators/__init__.py)",
     "output_type": "error",
     "traceback": [
      "\u001B[0;31m---------------------------------------------------------------------------\u001B[0m",
      "\u001B[0;31mImportError\u001B[0m                               Traceback (most recent call last)",
      "Cell \u001B[0;32mIn [7], line 1\u001B[0m\n\u001B[0;32m----> 1\u001B[0m \u001B[38;5;28;01mfrom\u001B[39;00m \u001B[38;5;21;01mdecorators\u001B[39;00m \u001B[38;5;28;01mimport\u001B[39;00m do_twice\n\u001B[1;32m      2\u001B[0m \u001B[38;5;129m@do_twice\u001B[39m\n\u001B[1;32m      3\u001B[0m \u001B[38;5;28;01mdef\u001B[39;00m \u001B[38;5;21mtimerfunc\u001B[39m():\n\u001B[1;32m      4\u001B[0m     get_ipython()\u001B[38;5;241m.\u001B[39mrun_line_magic(\u001B[38;5;124m'\u001B[39m\u001B[38;5;124mtimeit\u001B[39m\u001B[38;5;124m'\u001B[39m, \u001B[38;5;124m'\u001B[39m\u001B[38;5;124mfactorial(15)\u001B[39m\u001B[38;5;124m'\u001B[39m)\n",
      "\u001B[0;31mImportError\u001B[0m: cannot import name 'do_twice' from 'decorators' (/Users/seva/Develop/Beetroot/.venv/lib/python3.11/site-packages/decorators/__init__.py)"
     ]
    }
   ],
   "source": [],
   "metadata": {
    "collapsed": false
   }
  },
  {
   "cell_type": "code",
   "execution_count": null,
   "outputs": [],
   "source": [],
   "metadata": {
    "collapsed": false
   }
  }
 ],
 "metadata": {
  "kernelspec": {
   "display_name": "Python 3",
   "language": "python",
   "name": "python3"
  },
  "language_info": {
   "codemirror_mode": {
    "name": "ipython",
    "version": 3
   },
   "file_extension": ".py",
   "mimetype": "text/x-python",
   "name": "python",
   "nbconvert_exporter": "python",
   "pygments_lexer": "ipython3",
   "version": "3.7.4"
  }
 },
 "nbformat": 4,
 "nbformat_minor": 2
}
