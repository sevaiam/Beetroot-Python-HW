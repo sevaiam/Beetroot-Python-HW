{
 "cells": [
  {
   "cell_type": "markdown",
   "source": [
    "### Байт\n",
    "(англ. byte) — одиниця вимірювання обсягу цифрової інформації, яка зазвичай містить вісім бітів і представлена двійковим числом. Історично байт був кількістю бітів, яка використовувалася для кодування одного текстового символу в комп'ютері і тому він є найменшою адресною одиницею пам'яті в багатьох архітектурах комп'ютера.\n",
    "\n",
    "https://www.computerhope.com/jargon/b/byte.htm"
   ],
   "metadata": {
    "collapsed": false
   }
  },
  {
   "cell_type": "markdown",
   "source": [
    "Функція bytes() повертає незмінний об’єкт байтів, ініціалізований із заданим розміром і даними."
   ],
   "metadata": {
    "collapsed": false
   }
  },
  {
   "cell_type": "code",
   "execution_count": 7,
   "outputs": [],
   "source": [
    "bdata = bytes(range(0, 256))\n",
    "frecord = open('bfile', 'wb')\n",
    "frecord.write(bdata)\n",
    "frecord.close()"
   ],
   "metadata": {
    "collapsed": false
   }
  },
  {
   "cell_type": "code",
   "execution_count": 8,
   "outputs": [
    {
     "name": "stdout",
     "output_type": "stream",
     "text": [
      "b'\\x00\\x01\\x02\\x03\\x04\\x05\\x06\\x07\\x08\\t\\n\\x0b\\x0c\\r\\x0e\\x0f\\x10\\x11\\x12\\x13\\x14\\x15\\x16\\x17\\x18\\x19\\x1a\\x1b\\x1c\\x1d\\x1e\\x1f !\"#$%&\\'()*+,-./0123456789:;<=>?@ABCDEFGHIJKLMNOPQRSTUVWXYZ[\\\\]^_`abcdefghijklmnopqrstuvwxyz{|}~\\x7f\\x80\\x81\\x82\\x83\\x84\\x85\\x86\\x87\\x88\\x89\\x8a\\x8b\\x8c\\x8d\\x8e\\x8f\\x90\\x91\\x92\\x93\\x94\\x95\\x96\\x97\\x98\\x99\\x9a\\x9b\\x9c\\x9d\\x9e\\x9f\\xa0\\xa1\\xa2\\xa3\\xa4\\xa5\\xa6\\xa7\\xa8\\xa9\\xaa\\xab\\xac\\xad\\xae\\xaf\\xb0\\xb1\\xb2\\xb3\\xb4\\xb5\\xb6\\xb7\\xb8\\xb9\\xba\\xbb\\xbc\\xbd\\xbe\\xbf\\xc0\\xc1\\xc2\\xc3\\xc4\\xc5\\xc6\\xc7\\xc8\\xc9\\xca\\xcb\\xcc\\xcd\\xce\\xcf\\xd0\\xd1\\xd2\\xd3\\xd4\\xd5\\xd6\\xd7\\xd8\\xd9\\xda\\xdb\\xdc\\xdd\\xde\\xdf\\xe0\\xe1\\xe2\\xe3\\xe4\\xe5\\xe6\\xe7\\xe8\\xe9\\xea\\xeb\\xec\\xed\\xee\\xef\\xf0\\xf1\\xf2\\xf3\\xf4\\xf5\\xf6\\xf7\\xf8\\xf9\\xfa\\xfb\\xfc\\xfd\\xfe\\xff'\n"
     ]
    }
   ],
   "source": [
    "freading = open('bfile', 'rb')\n",
    "bdata = freading.read()\n",
    "print(bdata)\n",
    "freading.close()"
   ],
   "metadata": {
    "collapsed": false
   }
  },
  {
   "cell_type": "markdown",
   "source": [
    "Функція tell() повертає ціле число - поточне розташування від початку файла, виміряне у байтах.\n",
    "\n",
    "Функцію seek() використовують для того, щоб зміститися до конкретного байту у файлі."
   ],
   "metadata": {
    "collapsed": false
   }
  },
  {
   "cell_type": "code",
   "execution_count": 9,
   "outputs": [
    {
     "name": "stdout",
     "output_type": "stream",
     "text": [
      "251\n",
      "254\n",
      "b'\\xfe\\xff'\n"
     ]
    }
   ],
   "source": [
    "freading = open('bfile', 'rb') # відкриваємо файл (містить 256 байтових значень) у бінарному режимі\n",
    "freading.seek(251, 0) # переходимо у позицію за 5 байтів до кінця файла\n",
    "print(freading.tell()) # виводимо на екран поточну позицію, рахуючи від початку файла\n",
    "freading.seek(3, 1) # переходимо на 3 байти праворуч з поточної позиції\n",
    "print(freading.tell()) # виводимо на екран поточну позицію, рахуючи від початку файла\n",
    "bdata = freading.read() # зчитуємо усі байти до кінця файла (їх усього 2)\n",
    "print(bdata) # виводимо на екран зчитані дані"
   ],
   "metadata": {
    "collapsed": false
   }
  },
  {
   "cell_type": "code",
   "execution_count": 10,
   "outputs": [
    {
     "name": "stdout",
     "output_type": "stream",
     "text": [
      "<class 'bytes'>\n",
      "b'Hello, world!\\nHello, world!\\n'\n"
     ]
    }
   ],
   "source": [
    "import io\n",
    "binary_stream = io.BytesIO()\n",
    "# Binary data and strings are different types, so a str\n",
    "# must be encoded to binary using ascii, utf-8, or other.\n",
    "binary_stream.write(\"Hello, world!\\n\".encode('ascii'))\n",
    "binary_stream.write(\"Hello, world!\\n\".encode('utf-8'))\n",
    "\n",
    "# Move cursor back to the beginning of the buffer\n",
    "binary_stream.seek(0)\n",
    "\n",
    "# Read all data from the buffer\n",
    "stream_data = binary_stream.read()\n",
    "\n",
    "# The stream_data is type 'bytes', immutable\n",
    "print(type(stream_data))\n",
    "print(stream_data)"
   ],
   "metadata": {
    "collapsed": false
   }
  },
  {
   "cell_type": "code",
   "execution_count": 11,
   "outputs": [
    {
     "name": "stdout",
     "output_type": "stream",
     "text": [
      "<class 'memoryview'>\n",
      "b'\\xffello, world!\\nHello, world!\\n'\n"
     ]
    }
   ],
   "source": [
    "# To modify the actual contents of the existing buffer\n",
    "# use getbuffer() to get an object you can modify.\n",
    "# Modifying this object updates the underlying BytesIO buffer\n",
    "mutable_buffer = binary_stream.getbuffer()\n",
    "print(type(mutable_buffer))  # class 'memoryview'\n",
    "mutable_buffer[0] = 0xFF\n",
    "\n",
    "# Re-read the original stream. Contents will be modified\n",
    "# because we modified the mutable buffer\n",
    "binary_stream.seek(0)\n",
    "print(binary_stream.read())"
   ],
   "metadata": {
    "collapsed": false
   }
  },
  {
   "cell_type": "markdown",
   "source": [
    "### Base 64 Encoding"
   ],
   "metadata": {
    "collapsed": false
   }
  },
  {
   "cell_type": "code",
   "execution_count": 12,
   "outputs": [],
   "source": [
    "# Encode binary data to a base 64 string\n",
    "binary_data = b'\\x00\\xFF\\x00\\xFF'"
   ],
   "metadata": {
    "collapsed": false
   }
  },
  {
   "cell_type": "code",
   "execution_count": 13,
   "outputs": [
    {
     "name": "stdout",
     "output_type": "stream",
     "text": [
      "b'AP8A/w==\\n'\n"
     ]
    }
   ],
   "source": [
    "# Use the codecs module to encode\n",
    "import codecs\n",
    "base64_data = codecs.encode(binary_data, 'base64')\n",
    "print(base64_data)"
   ],
   "metadata": {
    "collapsed": false
   }
  },
  {
   "cell_type": "code",
   "execution_count": 14,
   "outputs": [
    {
     "name": "stdout",
     "output_type": "stream",
     "text": [
      "b'AP8A/w==\\n'\n"
     ]
    }
   ],
   "source": [
    "# Or use the binascii module\n",
    "import binascii\n",
    "base64_data = binascii.b2a_base64(binary_data)\n",
    "print(base64_data)"
   ],
   "metadata": {
    "collapsed": false
   }
  },
  {
   "cell_type": "code",
   "execution_count": 15,
   "outputs": [
    {
     "name": "stdout",
     "output_type": "stream",
     "text": [
      "AP8A/w==\n",
      "\n",
      "b'\\x00\\xff\\x00\\xff'\n",
      "b'\\x00\\xff\\x00\\xff'\n"
     ]
    }
   ],
   "source": [
    "# The base64_string is still a bytes type\n",
    "# It may need to be decoded to an ASCII string\n",
    "print(base64_data.decode('utf-8'))\n",
    "\n",
    "# Decoding is done similarly\n",
    "print(codecs.decode(base64_data, 'base64'))\n",
    "print(binascii.a2b_base64(base64_data))"
   ],
   "metadata": {
    "collapsed": false
   }
  },
  {
   "cell_type": "markdown",
   "source": [
    "# CSV"
   ],
   "metadata": {
    "collapsed": false
   }
  },
  {
   "cell_type": "code",
   "execution_count": 16,
   "outputs": [],
   "source": [
    "import csv"
   ],
   "metadata": {
    "collapsed": false
   }
  },
  {
   "cell_type": "code",
   "execution_count": 18,
   "outputs": [],
   "source": [
    "programmers = [\n",
    "    ['Python', 'Guido van Rossum'],\n",
    "    ['Scala', 'Martin Odersky'],\n",
    "    ['PHP', 'Rasmus Lerdorf'],\n",
    "    ['Ruby', 'Yukihiro Matsumoto'],\n",
    "    ['C', 'Dennis Ritchie']\n",
    "]"
   ],
   "metadata": {
    "collapsed": false
   }
  },
  {
   "cell_type": "code",
   "execution_count": 19,
   "outputs": [],
   "source": [
    "with open('programmers.csv', 'wt', newline='') as frecord: # менеджер контексту містить вказівку newline=''\n",
    "    csvrecord = csv.writer(frecord)\n",
    "    csvrecord.writerows(programmers)"
   ],
   "metadata": {
    "collapsed": false
   }
  },
  {
   "cell_type": "markdown",
   "source": [
    "Якщо вказівка newline='' не використовується, нові рядки, вбудовані всередині полів з лапками, не будуть інтерпретовані правильно, а на платформах, які використовують позначення \\r\\n для закінченння рядків, буде додатково додана послідовність \\r. Це зумовлено тим, що модуль csv виконує власну (універсальну) обробку нового рядка."
   ],
   "metadata": {
    "collapsed": false
   }
  },
  {
   "cell_type": "code",
   "execution_count": 20,
   "outputs": [
    {
     "name": "stdout",
     "output_type": "stream",
     "text": [
      "[['Python', 'Guido van Rossum'], ['Scala', 'Martin Odersky'], ['PHP', 'Rasmus Lerdorf'], ['Ruby', 'Yukihiro Matsumoto'], ['C', 'Dennis Ritchie']]\n"
     ]
    }
   ],
   "source": [
    "with open('programmers.csv', 'rt') as freading:\n",
    "    creading = csv.reader(freading)\n",
    "    programmers = [row for row in creading] # тут використовується включення списку\n",
    "print(programmers)"
   ],
   "metadata": {
    "collapsed": false
   }
  },
  {
   "cell_type": "markdown",
   "source": [
    "Використовуючи функції reader() і writer() із стандартними опціями, ми отримуємо стовпці, які розділені комами, і рядки, розділені символами нового рядка."
   ],
   "metadata": {
    "collapsed": false
   }
  },
  {
   "cell_type": "code",
   "execution_count": 22,
   "outputs": [
    {
     "name": "stdout",
     "output_type": "stream",
     "text": [
      "[{'language': 'language', 'developer': 'developer'}, {'language': 'Python', 'developer': 'Guido van Rossum'}, {'language': 'Scala', 'developer': 'Martin Odersky'}, {'language': 'PHP', 'developer': 'Rasmus Lerdorf'}, {'language': 'Ruby', 'developer': 'Yukihiro Matsumoto'}, {'language': 'C', 'developer': 'Dennis Ritchie'}]\n"
     ]
    }
   ],
   "source": [
    "with open('programmers.csv', 'rt') as freading:\n",
    "    creading = csv.DictReader(freading, fieldnames=['language', 'developer'])\n",
    "    programmers = [row for row in creading]\n",
    "print(programmers)"
   ],
   "metadata": {
    "collapsed": false
   }
  },
  {
   "cell_type": "code",
   "execution_count": 21,
   "outputs": [],
   "source": [
    "programmers = [\n",
    "    {'language': 'Python', 'developer': 'Guido van Rossum'},\n",
    "    {'language': 'Scala', 'developer': 'Martin Odersky'},\n",
    "    {'language': 'PHP', 'developer': 'Rasmus Lerdorf'},\n",
    "    {'language': 'Ruby', 'developer': 'Yukihiro Matsumoto'},\n",
    "    {'language': 'C', 'developer': 'Dennis Ritchie'},\n",
    "]\n",
    "with open('programmers.csv', 'wt', newline='') as frecord:\n",
    "    crecord = csv.DictWriter(frecord, ['language', 'developer'])\n",
    "    crecord.writeheader()\n",
    "    crecord.writerows(programmers)"
   ],
   "metadata": {
    "collapsed": false
   }
  },
  {
   "cell_type": "code",
   "execution_count": null,
   "outputs": [],
   "source": [
    "import pprint\n",
    "\n",
    "with open('programmers.csv', 'rt') as freading:\n",
    "    creading = csv.DictReader(freading)\n",
    "    programmers = [{'language': row['language'], 'developer': row['developer']} for row in creading]\n",
    "pprint.pprint(programmers)"
   ],
   "metadata": {
    "collapsed": false
   }
  },
  {
   "cell_type": "code",
   "execution_count": 23,
   "outputs": [],
   "source": [
    "import pandas"
   ],
   "metadata": {
    "collapsed": false
   }
  },
  {
   "cell_type": "code",
   "execution_count": 28,
   "outputs": [
    {
     "name": "stdout",
     "output_type": "stream",
     "text": [
      "             Name Hire Date   Salary  Sick Days remaining\n",
      "0  Graham Chapman  03/15/14  50000.0                   10\n",
      "1     John Cleese  06/01/15  65000.0                    8\n",
      "2       Eric Idle  05/12/14  45000.0                   10\n",
      "3     Terry Jones  11/01/13  70000.0                    3\n",
      "4   Terry Gilliam  08/12/14  48000.0                    7\n",
      "5   Michael Palin  05/23/13  66000.0                    8\n"
     ]
    }
   ],
   "source": [
    "df = pandas.read_csv('files/data.csv')\n",
    "print(df)"
   ],
   "metadata": {
    "collapsed": false
   }
  },
  {
   "cell_type": "code",
   "execution_count": 29,
   "outputs": [
    {
     "data": {
      "text/plain": "             Name Hire Date   Salary  Sick Days remaining\n0  Graham Chapman  03/15/14  50000.0                   10\n1     John Cleese  06/01/15  65000.0                    8\n3     Terry Jones  11/01/13  70000.0                    3\n5   Michael Palin  05/23/13  66000.0                    8",
      "text/html": "<div>\n<style scoped>\n    .dataframe tbody tr th:only-of-type {\n        vertical-align: middle;\n    }\n\n    .dataframe tbody tr th {\n        vertical-align: top;\n    }\n\n    .dataframe thead th {\n        text-align: right;\n    }\n</style>\n<table border=\"1\" class=\"dataframe\">\n  <thead>\n    <tr style=\"text-align: right;\">\n      <th></th>\n      <th>Name</th>\n      <th>Hire Date</th>\n      <th>Salary</th>\n      <th>Sick Days remaining</th>\n    </tr>\n  </thead>\n  <tbody>\n    <tr>\n      <th>0</th>\n      <td>Graham Chapman</td>\n      <td>03/15/14</td>\n      <td>50000.0</td>\n      <td>10</td>\n    </tr>\n    <tr>\n      <th>1</th>\n      <td>John Cleese</td>\n      <td>06/01/15</td>\n      <td>65000.0</td>\n      <td>8</td>\n    </tr>\n    <tr>\n      <th>3</th>\n      <td>Terry Jones</td>\n      <td>11/01/13</td>\n      <td>70000.0</td>\n      <td>3</td>\n    </tr>\n    <tr>\n      <th>5</th>\n      <td>Michael Palin</td>\n      <td>05/23/13</td>\n      <td>66000.0</td>\n      <td>8</td>\n    </tr>\n  </tbody>\n</table>\n</div>"
     },
     "execution_count": 29,
     "metadata": {},
     "output_type": "execute_result"
    }
   ],
   "source": [
    "df[df['Salary'] > 48000]\n",
    "print(df['Name'])"
   ],
   "metadata": {
    "collapsed": false
   }
  },
  {
   "cell_type": "code",
   "execution_count": 30,
   "outputs": [
    {
     "name": "stdout",
     "output_type": "stream",
     "text": [
      "                Hire Date   Salary  Sick Days remaining\n",
      "Name                                                   \n",
      "Graham Chapman 2014-03-15  50000.0                   10\n",
      "John Cleese    2015-06-01  65000.0                    8\n",
      "Eric Idle      2014-05-12  45000.0                   10\n",
      "Terry Jones    2013-11-01  70000.0                    3\n",
      "Terry Gilliam  2014-08-12  48000.0                    7\n",
      "Michael Palin  2013-05-23  66000.0                    8\n"
     ]
    }
   ],
   "source": [
    "df = pandas.read_csv('files/data.csv', index_col='Name', parse_dates=['Hire Date'])\n",
    "print(df)"
   ],
   "metadata": {
    "collapsed": false
   }
  },
  {
   "cell_type": "markdown",
   "source": [],
   "metadata": {
    "collapsed": false
   }
  },
  {
   "cell_type": "code",
   "execution_count": 32,
   "outputs": [
    {
     "data": {
      "text/plain": "Name\nGraham Chapman   2014-03-15\nJohn Cleese      2015-06-01\nEric Idle        2014-05-12\nTerry Jones      2013-11-01\nTerry Gilliam    2014-08-12\nMichael Palin    2013-05-23\nName: Hire Date, dtype: datetime64[ns]"
     },
     "execution_count": 32,
     "metadata": {},
     "output_type": "execute_result"
    }
   ],
   "source": [
    "df['Hire Date']"
   ],
   "metadata": {
    "collapsed": false
   }
  },
  {
   "cell_type": "code",
   "execution_count": null,
   "outputs": [],
   "source": [],
   "metadata": {
    "collapsed": false
   }
  }
 ],
 "metadata": {
  "kernelspec": {
   "display_name": "Python 3",
   "language": "python",
   "name": "python3"
  },
  "language_info": {
   "codemirror_mode": {
    "name": "ipython",
    "version": 2
   },
   "file_extension": ".py",
   "mimetype": "text/x-python",
   "name": "python",
   "nbconvert_exporter": "python",
   "pygments_lexer": "ipython2",
   "version": "2.7.6"
  }
 },
 "nbformat": 4,
 "nbformat_minor": 0
}
